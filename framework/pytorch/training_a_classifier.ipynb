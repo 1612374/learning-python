{
 "cells": [
  {
   "cell_type": "markdown",
   "metadata": {},
   "source": [
    "full tut: https://pytorch.org/tutorials/beginner/blitz/cifar10_tutorial.html"
   ]
  },
  {
   "cell_type": "code",
   "execution_count": 1,
   "metadata": {},
   "outputs": [],
   "source": [
    "import torch\n",
    "import torchvision\n",
    "import torchvision.transforms as transforms"
   ]
  },
  {
   "cell_type": "markdown",
   "metadata": {},
   "source": [
    "### Deal with data\n",
    "* Hình ảnh: openCV, torchvision\n",
    "* Audio: scipy, librosa\n",
    "* text:  NLTK, SpaCy\n",
    "\n",
    "Tiếp theo đây dùng torchvision để tải tập dữ liệu CIFAR10 và chuẩn hóa (normalize)"
   ]
  },
  {
   "cell_type": "markdown",
   "metadata": {},
   "source": [
    "The output of torchvision datasets are PILImage images of range [0, 1]. We transform them to Tensors of normalized range [-1, 1].  \n",
    "\n",
    "Khai báo 1 biến transform dùng để transform dữ liệu, compose 2 thứ:\n",
    "+ chuyển dữ liệu về tensor trong torch\n",
    "+ normalize về [-1, 1] từ ban đầu là [0, 1], thật vậy pixel_value = (pixel_value - mean) / std, (1-0.5)/0.5 = 1. (0-0.5)/0.5 = -1  \n",
    "ở đây có 3 lần 0.5 là vì có 3 kênh màu"
   ]
  },
  {
   "cell_type": "code",
   "execution_count": 2,
   "metadata": {},
   "outputs": [
    {
     "name": "stdout",
     "output_type": "stream",
     "text": [
      "Compose(\n",
      "    ToTensor()\n",
      "    Normalize(mean=(0.5, 0.5, 0.5), std=(0.5, 0.5, 0.5))\n",
      ")\n"
     ]
    }
   ],
   "source": [
    "transform = transforms.Compose(\n",
    "    [transforms.ToTensor(),\n",
    "     transforms.Normalize((0.5, 0.5, 0.5), (0.5, 0.5, 0.5))])\n",
    "\n",
    "print(transform)"
   ]
  },
  {
   "cell_type": "markdown",
   "metadata": {},
   "source": [
    "#### Tải dữ liệu"
   ]
  },
  {
   "cell_type": "code",
   "execution_count": 3,
   "metadata": {},
   "outputs": [
    {
     "name": "stderr",
     "output_type": "stream",
     "text": [
      "\r",
      "0.00B [00:00, ?B/s]"
     ]
    },
    {
     "name": "stdout",
     "output_type": "stream",
     "text": [
      "Downloading https://www.cs.toronto.edu/~kriz/cifar-10-python.tar.gz to ./data/cifar-10-python.tar.gz\n"
     ]
    },
    {
     "name": "stderr",
     "output_type": "stream",
     "text": [
      "100%|█████████▉| 170M/170M [00:45<00:00, 6.88MB/s]   "
     ]
    },
    {
     "name": "stdout",
     "output_type": "stream",
     "text": [
      "Files already downloaded and verified\n"
     ]
    }
   ],
   "source": [
    "trainset = torchvision.datasets.CIFAR10(root='./data', train=True,\n",
    "                                        download=True, transform=transform)\n",
    "trainloader = torch.utils.data.DataLoader(trainset, batch_size=4,\n",
    "                                          shuffle=True, num_workers=2)\n",
    "\n",
    "testset = torchvision.datasets.CIFAR10(root='./data', train=False,\n",
    "                                       download=True, transform=transform)\n",
    "testloader = torch.utils.data.DataLoader(testset, batch_size=4,\n",
    "                                         shuffle=False, num_workers=2)\n",
    "\n",
    "classes = ('plane', 'car', 'bird', 'cat',\n",
    "           'deer', 'dog', 'frog', 'horse', 'ship', 'truck')"
   ]
  },
  {
   "cell_type": "markdown",
   "metadata": {},
   "source": [
    "* trainset sẽ là list 50000 tupple  \n",
    "* 1 tupple sẽ bao gồm 1 tensor 3x32x32 (giá trị ảnh) và 1 nhãn  \n",
    "* trainloader sẽ gồm nhiều thứ hơn (dataset, batch_size, ...) \n",
    "https://pytorch.org/docs/stable/_modules/torch/utils/data/dataloader.html\n",
    "\n",
    "num_workers > 0 is used to preprocess batches of data so that the next batch is ready for use when the current batch has been finished. More num_workers would consume more memory usage but is helpful to speed up the I/O process"
   ]
  },
  {
   "cell_type": "code",
   "execution_count": 4,
   "metadata": {},
   "outputs": [
    {
     "name": "stdout",
     "output_type": "stream",
     "text": [
      "50000\n",
      "torch.Size([3, 32, 32])\n",
      "Dataset CIFAR10\n",
      "    Number of datapoints: 50000\n",
      "    Split: train\n",
      "    Root Location: ./data\n",
      "    Transforms (if any): Compose(\n",
      "                             ToTensor()\n",
      "                             Normalize(mean=(0.5, 0.5, 0.5), std=(0.5, 0.5, 0.5))\n",
      "                         )\n",
      "    Target Transforms (if any): None\n",
      "Dataset CIFAR10\n",
      "    Number of datapoints: 10000\n",
      "    Split: test\n",
      "    Root Location: ./data\n",
      "    Transforms (if any): Compose(\n",
      "                             ToTensor()\n",
      "                             Normalize(mean=(0.5, 0.5, 0.5), std=(0.5, 0.5, 0.5))\n",
      "                         )\n",
      "    Target Transforms (if any): None\n",
      "[tensor([[[[ 0.2392,  0.2471,  0.2941,  ...,  0.0745, -0.0118, -0.0902],\n",
      "          [ 0.1922,  0.1843,  0.2471,  ...,  0.0667, -0.0196, -0.0667],\n",
      "          [ 0.1843,  0.1843,  0.2392,  ...,  0.0902,  0.0196, -0.0588],\n",
      "          ...,\n",
      "          [-0.4667, -0.6706, -0.7569,  ..., -0.7020, -0.8980, -0.6863],\n",
      "          [-0.5216, -0.6157, -0.7255,  ..., -0.7961, -0.7725, -0.8431],\n",
      "          [-0.5765, -0.5608, -0.6471,  ..., -0.8118, -0.7333, -0.8353]],\n",
      "\n",
      "         [[-0.1216, -0.1294, -0.0902,  ..., -0.2549, -0.2863, -0.3333],\n",
      "          [-0.1216, -0.1373, -0.1059,  ..., -0.2549, -0.2863, -0.3098],\n",
      "          [-0.1373, -0.1451, -0.1294,  ..., -0.2314, -0.2549, -0.3020],\n",
      "          ...,\n",
      "          [-0.0275, -0.2157, -0.3098,  ..., -0.2392, -0.4980, -0.3333],\n",
      "          [-0.0902, -0.2000, -0.3333,  ..., -0.3569, -0.3569, -0.4980],\n",
      "          [-0.1608, -0.1765, -0.3020,  ..., -0.3961, -0.3412, -0.4745]],\n",
      "\n",
      "         [[-0.6157, -0.6314, -0.6000,  ..., -0.7176, -0.7176, -0.7412],\n",
      "          [-0.6000, -0.6863, -0.6471,  ..., -0.7569, -0.7490, -0.7333],\n",
      "          [-0.6314, -0.7412, -0.7176,  ..., -0.7333, -0.7333, -0.7412],\n",
      "          ...,\n",
      "          [ 0.3882,  0.1608,  0.0745,  ...,  0.1451, -0.1529, -0.0039],\n",
      "          [ 0.3176,  0.1608,  0.0353,  ...,  0.0196, -0.0118, -0.1608],\n",
      "          [ 0.2549,  0.1686,  0.0353,  ..., -0.0275,  0.0118, -0.1373]]],\n",
      "\n",
      "\n",
      "        [[[ 0.8431,  0.8118,  0.8196,  ...,  0.8275,  0.8275,  0.8196],\n",
      "          [ 0.8667,  0.8431,  0.8431,  ...,  0.8510,  0.8510,  0.8431],\n",
      "          [ 0.8588,  0.8353,  0.8353,  ...,  0.8431,  0.8431,  0.8353],\n",
      "          ...,\n",
      "          [-0.3176, -0.6627, -0.8510,  ...,  0.3255,  0.4275,  0.4745],\n",
      "          [-0.3569, -0.6392, -0.7176,  ...,  0.3647,  0.4510,  0.4667],\n",
      "          [-0.3333, -0.5137, -0.5451,  ...,  0.3176,  0.4118,  0.4588]],\n",
      "\n",
      "         [[ 0.8431,  0.8118,  0.8196,  ...,  0.8275,  0.8275,  0.8196],\n",
      "          [ 0.8667,  0.8431,  0.8431,  ...,  0.8510,  0.8510,  0.8431],\n",
      "          [ 0.8588,  0.8353,  0.8353,  ...,  0.8431,  0.8431,  0.8353],\n",
      "          ...,\n",
      "          [-0.2235, -0.6000, -0.8196,  ...,  0.4431,  0.5451,  0.5843],\n",
      "          [-0.2471, -0.5529, -0.6549,  ...,  0.4824,  0.5686,  0.5843],\n",
      "          [-0.2078, -0.4118, -0.4745,  ...,  0.4353,  0.5294,  0.5686]],\n",
      "\n",
      "         [[ 0.8431,  0.8118,  0.8196,  ...,  0.8275,  0.8275,  0.8196],\n",
      "          [ 0.8667,  0.8431,  0.8431,  ...,  0.8510,  0.8510,  0.8431],\n",
      "          [ 0.8588,  0.8353,  0.8353,  ...,  0.8431,  0.8431,  0.8353],\n",
      "          ...,\n",
      "          [-0.3020, -0.7098, -0.9137,  ...,  0.4039,  0.5137,  0.5765],\n",
      "          [-0.3569, -0.7176, -0.8275,  ...,  0.4353,  0.5373,  0.5686],\n",
      "          [-0.3490, -0.6235, -0.7020,  ...,  0.3961,  0.4980,  0.5608]]],\n",
      "\n",
      "\n",
      "        [[[ 0.2392,  0.2392,  0.0902,  ...,  0.7882,  0.8588,  0.8667],\n",
      "          [ 0.3333,  0.3490,  0.1843,  ...,  0.8196,  0.9294,  0.9294],\n",
      "          [ 0.3647,  0.3804,  0.2314,  ...,  0.8039,  0.9608,  0.9216],\n",
      "          ...,\n",
      "          [-0.7569, -0.7647, -0.7961,  ..., -0.7098, -0.9294, -0.9686],\n",
      "          [-0.8196, -0.7882, -0.8039,  ..., -0.8510, -0.9686, -0.9608],\n",
      "          [-0.7804, -0.7647, -0.7490,  ..., -0.9608, -0.9686, -0.9451]],\n",
      "\n",
      "         [[ 0.4902,  0.4667,  0.3020,  ...,  0.8118,  0.8745,  0.8902],\n",
      "          [ 0.5686,  0.5608,  0.3804,  ...,  0.8196,  0.9294,  0.9373],\n",
      "          [ 0.5765,  0.5686,  0.4039,  ...,  0.7961,  0.9529,  0.9137],\n",
      "          ...,\n",
      "          [-0.6863, -0.6941, -0.7255,  ..., -0.6863, -0.8980, -0.9451],\n",
      "          [-0.7333, -0.7020, -0.7176,  ..., -0.8431, -0.9529, -0.9451],\n",
      "          [-0.6784, -0.6627, -0.6471,  ..., -0.9529, -0.9608, -0.9373]],\n",
      "\n",
      "         [[ 0.7412,  0.7098,  0.5216,  ...,  0.8353,  0.9059,  0.9294],\n",
      "          [ 0.7961,  0.7725,  0.5765,  ...,  0.8510,  0.9608,  0.9686],\n",
      "          [ 0.7647,  0.7412,  0.5608,  ...,  0.8196,  0.9686,  0.9373],\n",
      "          ...,\n",
      "          [-0.6471, -0.6549, -0.6863,  ..., -0.6392, -0.8902, -0.9608],\n",
      "          [-0.6941, -0.6627, -0.6784,  ..., -0.8118, -0.9765, -0.9765],\n",
      "          [-0.6314, -0.6078, -0.5922,  ..., -0.9373, -0.9765, -0.9451]]],\n",
      "\n",
      "\n",
      "        [[[ 0.2157,  0.3098,  0.3804,  ...,  0.5765,  0.5843,  0.5059],\n",
      "          [ 0.2000,  0.2784,  0.3412,  ...,  0.5843,  0.5922,  0.4824],\n",
      "          [ 0.2157,  0.2549,  0.3176,  ...,  0.6157,  0.6000,  0.4824],\n",
      "          ...,\n",
      "          [-0.3020, -0.5529, -0.5216,  ..., -0.3020, -0.5373, -0.4745],\n",
      "          [-0.3020, -0.5294, -0.5059,  ..., -0.5529, -0.5216, -0.4118],\n",
      "          [-0.2784, -0.5294, -0.5216,  ..., -0.5294, -0.4980, -0.4275]],\n",
      "\n",
      "         [[ 0.2235,  0.3804,  0.4039,  ...,  0.5373,  0.5843,  0.4353],\n",
      "          [ 0.2157,  0.4039,  0.4431,  ...,  0.6314,  0.6863,  0.4902],\n",
      "          [ 0.2078,  0.3961,  0.4510,  ...,  0.6314,  0.6863,  0.4980],\n",
      "          ...,\n",
      "          [-0.3804, -0.5843, -0.5216,  ..., -0.0667, -0.3804, -0.4196],\n",
      "          [-0.3569, -0.5451, -0.4824,  ..., -0.4824, -0.4980, -0.4588],\n",
      "          [-0.3882, -0.5922, -0.5451,  ..., -0.5059, -0.4902, -0.4667]],\n",
      "\n",
      "         [[ 0.1686,  0.4667,  0.5137,  ...,  0.6392,  0.6627,  0.3412],\n",
      "          [ 0.2314,  0.6000,  0.6863,  ...,  0.7412,  0.7804,  0.4353],\n",
      "          [ 0.2000,  0.5765,  0.6706,  ...,  0.6863,  0.7569,  0.4431],\n",
      "          ...,\n",
      "          [-0.5137, -0.5922, -0.5373,  ..., -0.2078, -0.5137, -0.6078],\n",
      "          [-0.5137, -0.5843, -0.5451,  ..., -0.5451, -0.5765, -0.6000],\n",
      "          [-0.4980, -0.6000, -0.6000,  ..., -0.6078, -0.5922, -0.6078]]]]), tensor([3, 8, 8, 0])]\n"
     ]
    }
   ],
   "source": [
    "print(len(trainset))\n",
    "print(trainset[0][0].shape)\n",
    "print(trainloader.dataset) # same as trainset\n",
    "print(testset)\n",
    "\n",
    "for data in testloader:\n",
    "    print(data)\n",
    "    break"
   ]
  },
  {
   "cell_type": "markdown",
   "metadata": {},
   "source": [
    "#### Show dữ liệu kiểm tra thử\n",
    "torchvision.utils.make_grid: display nhiều hình thành 1 cái grid, như ở dưới là 4 hình"
   ]
  },
  {
   "cell_type": "code",
   "execution_count": 7,
   "metadata": {},
   "outputs": [
    {
     "name": "stdout",
     "output_type": "stream",
     "text": [
      "4\n",
      "tensor([4, 2, 5, 8])\n",
      "image torch torch.Size([3, 36, 138])\n",
      "image numpy (3, 36, 138)\n"
     ]
    },
    {
     "data": {
      "image/png": "[encoded data removed]",
      "text/plain": [
       "<Figure size 432x288 with 1 Axes>"
      ]
     },
     "metadata": {
      "needs_background": "light"
     },
     "output_type": "display_data"
    },
    {
     "name": "stdout",
     "output_type": "stream",
     "text": [
      " deer  bird   dog  ship\n"
     ]
    }
   ],
   "source": [
    "import matplotlib.pyplot as plt\n",
    "import numpy as np\n",
    "\n",
    "# functions to show an image\n",
    "\n",
    "\n",
    "def imshow(img):\n",
    "    img = img / 2 + 0.5     # unnormalize\n",
    "    npimg = img.numpy()\n",
    "    print('image torch', img.shape)  # 3x36x138\n",
    "    print('image numpy', npimg.shape)\n",
    "    plt.imshow(np.transpose(npimg, (1, 2, 0)))  # 36x138x3 \n",
    "    plt.show()\n",
    "\n",
    "\n",
    "# get some random training images\n",
    "dataiter = iter(trainloader)\n",
    "images, labels = dataiter.next()  # images and labels in 1 batch\n",
    "\n",
    "print(len(images))\n",
    "print(labels)\n",
    "\n",
    "# show images\n",
    "imshow(torchvision.utils.make_grid(images))\n",
    "plt.show()\n",
    "# print labels\n",
    "print(' '.join('%5s' % classes[labels[j]] for j in range(4)))"
   ]
  },
  {
   "cell_type": "markdown",
   "metadata": {},
   "source": [
    "#### Khai báo 1 CNN"
   ]
  },
  {
   "cell_type": "code",
   "execution_count": 75,
   "metadata": {},
   "outputs": [
    {
     "name": "stdout",
     "output_type": "stream",
     "text": [
      "cuda:0\n"
     ]
    }
   ],
   "source": [
    "import torch.nn as nn\n",
    "import torch.nn.functional as F\n",
    "\n",
    "\n",
    "class Net(nn.Module):\n",
    "    def __init__(self):\n",
    "        super(Net, self).__init__()\n",
    "        self.conv1 = nn.Conv2d(3, 128, 5)  # 3 input channels, 128 output channels, 5x5 conv\n",
    "        self.pool = nn.MaxPool2d(2, 2)  # 2 x 2 maxpool window\n",
    "        self.conv2 = nn.Conv2d(128, 16, 5)  # 128 input channels, 16 output channels, 5x5 conv\n",
    "        self.fc1 = nn.Linear(16 * 5 * 5, 120)  # weight giữa fc1 và fc2\n",
    "        self.fc2 = nn.Linear(120, 84)  # tương tự\n",
    "        self.fc3 = nn.Linear(84, 10)\n",
    "\n",
    "    def forward(self, x):\n",
    "        # ReLU as activation function\n",
    "        x = self.pool(F.relu(self.conv1(x)))\n",
    "        x = self.pool(F.relu(self.conv2(x)))\n",
    "        x = x.view(-1, 16 * 5 * 5)\n",
    "        x = F.relu(self.fc1(x))\n",
    "        x = F.relu(self.fc2(x))\n",
    "        x = self.fc3(x)\n",
    "        return x\n",
    "\n",
    "    \n",
    "\n",
    "device = torch.device(\"cuda:0\" if torch.cuda.is_available() else \"cpu\")\n",
    "# device = torch.device(\"cpu\")\n",
    "print(device)\n",
    "net = Net().to(device)"
   ]
  },
  {
   "cell_type": "markdown",
   "metadata": {},
   "source": [
    "#### Loss function"
   ]
  },
  {
   "cell_type": "code",
   "execution_count": 76,
   "metadata": {},
   "outputs": [],
   "source": [
    "import torch.optim as optim\n",
    "\n",
    "criterion = nn.CrossEntropyLoss()\n",
    "# stochastic gradient descent to update net 's parameters\n",
    "optimizer = optim.SGD(net.parameters(), lr=0.001, momentum=0.9) "
   ]
  },
  {
   "cell_type": "markdown",
   "metadata": {},
   "source": [
    "#### Training\n",
    "* enumerate là để lấy index trong khi iter kiểu dùng in\n",
    "\n",
    "Since the backward() function accumulates gradients, and you don’t want to mix up gradients between minibatches, you have to zero them out at the start of a new minibatch"
   ]
  },
  {
   "cell_type": "code",
   "execution_count": 77,
   "metadata": {
    "scrolled": true
   },
   "outputs": [
    {
     "name": "stdout",
     "output_type": "stream",
     "text": [
      "[1,  2000] loss: 2.038\n",
      "[1,  4000] loss: 1.668\n",
      "[1,  6000] loss: 1.529\n",
      "[1,  8000] loss: 1.454\n",
      "[1, 10000] loss: 1.416\n",
      "[1, 12000] loss: 1.318\n",
      "[2,  2000] loss: 1.234\n",
      "[2,  4000] loss: 1.208\n",
      "[2,  6000] loss: 1.184\n",
      "[2,  8000] loss: 1.187\n",
      "[2, 10000] loss: 1.156\n",
      "[2, 12000] loss: 1.133\n",
      "Finished Training\n"
     ]
    }
   ],
   "source": [
    "for epoch in range(2):  # loop over the dataset multiple times (2 epochs)\n",
    "\n",
    "    running_loss = 0.0\n",
    "    for i, data in enumerate(trainloader, 0):\n",
    "        # get the inputs; data is a list of [inputs, labels]\n",
    "        inputs, labels = data[0].to(device), data[1].to(device)  # inputs.shape: batch_size x 3 x 32 x 32\\\n",
    "        \n",
    "        # zero the parameter gradients\n",
    "        optimizer.zero_grad()  # zero the gradient buffers\n",
    "\n",
    "        # forward + backward + optimize\n",
    "        outputs = net(inputs)  #  outputs.shape: batch_size x num_class\n",
    "        \n",
    "        # print(outputs.shape, labels.shape) # torch.Size([4, 10]) torch.Size([4])\n",
    "        # break\n",
    "        loss = criterion(outputs, labels)\n",
    "        loss.backward()\n",
    "        optimizer.step()\n",
    "\n",
    "        # print statistics\n",
    "        running_loss += loss.item()\n",
    "        if i % 2000 == 1999:    # print every 2000 mini-batches\n",
    "            print('[%d, %5d] loss: %.3f' %\n",
    "                  (epoch + 1, i + 1, running_loss / 2000))\n",
    "            running_loss = 0.0\n",
    "\n",
    "print('Finished Training')"
   ]
  },
  {
   "cell_type": "markdown",
   "metadata": {},
   "source": [
    "#### show some test case"
   ]
  },
  {
   "cell_type": "code",
   "execution_count": 78,
   "metadata": {},
   "outputs": [
    {
     "name": "stdout",
     "output_type": "stream",
     "text": [
      "image torch torch.Size([3, 36, 138])\n",
      "image numpy (3, 36, 138)\n"
     ]
    },
    {
     "data": {
      "image/png": "[encoded data removed]",
      "text/plain": [
       "<Figure size 432x288 with 1 Axes>"
      ]
     },
     "metadata": {
      "needs_background": "light"
     },
     "output_type": "display_data"
    },
    {
     "name": "stdout",
     "output_type": "stream",
     "text": [
      "Ground truth:    cat  ship  ship plane\n",
      "Predict:    dog  frog horse plane\n"
     ]
    }
   ],
   "source": [
    "test_iter = iter(testloader)\n",
    "test = test_iter.next()\n",
    "test_imgs, labels = test[0].to(device), test[1].to(device)\n",
    "\n",
    "test_imgs_num = test[0]\n",
    "\n",
    "imshow(torchvision.utils.make_grid(test_imgs_num))\n",
    "print('Ground truth: ', ' '.join('%5s' % classes[labels[j]] for j in range(4)))\n",
    "\n",
    "test_imgs.to(device=device, dtype=torch.float32)\n",
    "test_outs = net(test_imgs)\n",
    "# max_pred = torch.max(test_outs, 1)  # axis = 1\n",
    "# print(max_pred)\n",
    "# max_pred = max_pred.indices.numpy()\n",
    "_, predicted = torch.max(outputs.data, 1)\n",
    "\n",
    "print('Predict: ', ' '.join('%5s' % classes[predicted[j]] for j in range(4)))"
   ]
  },
  {
   "cell_type": "markdown",
   "metadata": {},
   "source": [
    "#### Test on testset"
   ]
  },
  {
   "cell_type": "code",
   "execution_count": 79,
   "metadata": {},
   "outputs": [
    {
     "name": "stdout",
     "output_type": "stream",
     "text": [
      "Accuracy of the network on the 10000 test images: 60 %\n"
     ]
    }
   ],
   "source": [
    "correct = 0\n",
    "total = 0\n",
    "with torch.no_grad():\n",
    "    for data in testloader:\n",
    "        inputs, labels = data[0].to(device), data[1].to(device)\n",
    "        outputs = net(inputs)\n",
    "        _, predicted = torch.max(outputs.data, 1)\n",
    "        total += labels.size(0)\n",
    "        # print(predicted, labels) for example: tensor([3, 8, 8, 8]) tensor([3, 8, 8, 0])\n",
    "        correct += (predicted == labels).sum().item()\n",
    "\n",
    "print('Accuracy of the network on the 10000 test images: %d %%' % (\n",
    "    100 * correct / total))"
   ]
  },
  {
   "cell_type": "code",
   "execution_count": 69,
   "metadata": {},
   "outputs": [
    {
     "name": "stdout",
     "output_type": "stream",
     "text": [
      "Accuracy of plane : 74 %\n",
      "Accuracy of   car : 79 %\n",
      "Accuracy of  bird : 55 %\n",
      "Accuracy of   cat : 45 %\n",
      "Accuracy of  deer : 66 %\n",
      "Accuracy of   dog : 58 %\n",
      "Accuracy of  frog : 70 %\n",
      "Accuracy of horse : 69 %\n",
      "Accuracy of  ship : 84 %\n",
      "Accuracy of truck : 77 %\n"
     ]
    }
   ],
   "source": [
    "class_correct = list(0. for i in range(10))\n",
    "class_total = list(0. for i in range(10))\n",
    "with torch.no_grad():\n",
    "    for data in testloader:\n",
    "        inputs, labels = data[0].to(device), data[1].to(device)\n",
    "        outputs = net(inputs)\n",
    "        _, predicted = torch.max(outputs, 1)\n",
    "        c = (predicted == labels).squeeze()\n",
    "        for i in range(4):\n",
    "            label = labels[i]\n",
    "            class_correct[label] += c[i].item()\n",
    "            class_total[label] += 1\n",
    "\n",
    "\n",
    "for i in range(10):\n",
    "    print('Accuracy of %5s : %2d %%' % (\n",
    "        classes[i], 100 * class_correct[i] / class_total[i]))"
   ]
  },
  {
   "cell_type": "markdown",
   "metadata": {},
   "source": [
    "#### train on gpu\n",
    "Đưa các parameters và các input vào devices"
   ]
  },
  {
   "cell_type": "code",
   "execution_count": 72,
   "metadata": {},
   "outputs": [
    {
     "name": "stdout",
     "output_type": "stream",
     "text": [
      "cpu\n"
     ]
    }
   ],
   "source": [
    "device = torch.device(\"cuda:0\" if torch.cuda.is_available() else \"cpu\")\n",
    "\n",
    "# Assuming that we are on a CUDA machine, this should print a CUDA device:\n",
    "\n",
    "print(device)"
   ]
  },
  {
   "cell_type": "code",
   "execution_count": 76,
   "metadata": {},
   "outputs": [
    {
     "data": {
      "text/plain": [
       "Net(\n",
       "  (conv1): Conv2d(3, 6, kernel_size=(5, 5), stride=(1, 1))\n",
       "  (pool): MaxPool2d(kernel_size=2, stride=2, padding=0, dilation=1, ceil_mode=False)\n",
       "  (conv2): Conv2d(6, 16, kernel_size=(5, 5), stride=(1, 1))\n",
       "  (fc1): Linear(in_features=400, out_features=120, bias=True)\n",
       "  (fc2): Linear(in_features=120, out_features=84, bias=True)\n",
       "  (fc3): Linear(in_features=84, out_features=10, bias=True)\n",
       ")"
      ]
     },
     "execution_count": 76,
     "metadata": {},
     "output_type": "execute_result"
    }
   ],
   "source": [
    "net.to(device)"
   ]
  },
  {
   "cell_type": "code",
   "execution_count": 79,
   "metadata": {},
   "outputs": [],
   "source": [
    "inputs, labels = data[0].to(device), data[1].to(device)"
   ]
  }
 ],
 "metadata": {
  "kernelspec": {
   "display_name": "Python 3",
   "language": "python",
   "name": "python3"
  },
  "language_info": {
   "codemirror_mode": {
    "name": "ipython",
    "version": 3
   },
   "file_extension": ".py",
   "mimetype": "text/x-python",
   "name": "python",
   "nbconvert_exporter": "python",
   "pygments_lexer": "ipython3",
   "version": "3.6.8"
  }
 },
 "nbformat": 4,
 "nbformat_minor": 2
}
