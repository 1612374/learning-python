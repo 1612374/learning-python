{
 "cells": [
  {
   "cell_type": "code",
   "execution_count": 17,
   "metadata": {},
   "outputs": [
    {
     "name": "stdout",
     "output_type": "stream",
     "text": [
      "hey how are yougood i am finehave a nice day\n",
      "{'v', 'y', 'o', 'u', 'r', 'n', 'e', 'd', 'w', 'g', 'm', 'i', 'f', 'a', 'c', ' ', 'h'}\n",
      "{0: 'v', 1: 'y', 2: 'o', 3: 'u', 4: 'r', 5: 'n', 6: 'e', 7: 'd', 8: 'w', 9: 'g', 10: 'm', 11: 'i', 12: 'f', 13: 'a', 14: 'c', 15: ' ', 16: 'h'}\n",
      "{'v': 0, 'y': 1, 'o': 2, 'u': 3, 'r': 4, 'n': 5, 'e': 6, 'd': 7, 'w': 8, 'g': 9, 'm': 10, 'i': 11, 'f': 12, 'a': 13, 'c': 14, ' ': 15, 'h': 16}\n"
     ]
    }
   ],
   "source": [
    "text = ['hey how are you','good i am fine','have a nice day']\n",
    "chars = set(''.join(text))\n",
    "\n",
    "print((''.join(text)))\n",
    "print(chars)\n",
    "\n",
    "int2char = dict(enumerate(chars))\n",
    "print(int2char)\n",
    "\n",
    "\n",
    "char2int = {char: ind for ind, char in int2char.items()}\n",
    "print(char2int)"
   ]
  },
  {
   "cell_type": "code",
   "execution_count": 27,
   "metadata": {},
   "outputs": [
    {
     "name": "stdout",
     "output_type": "stream",
     "text": [
      "['hey how are you', 'good i am fine ', 'have a nice day']\n"
     ]
    }
   ],
   "source": [
    "# Finding the length of the longest string in our data\n",
    "maxlen = len(max(text, key=len))\n",
    "\n",
    "# Padding\n",
    "\n",
    "# A simple loop that loops through the list of sentences and adds a ' ' whitespace until the length of\n",
    "# the sentence matches the length of the longest sentence\n",
    "for i in range(len(text)):\n",
    "  while len(text[i])<maxlen:\n",
    "      text[i] += ' '\n",
    "        \n",
    "print(text)"
   ]
  },
  {
   "cell_type": "code",
   "execution_count": 34,
   "metadata": {},
   "outputs": [
    {
     "name": "stdout",
     "output_type": "stream",
     "text": [
      "Input Sequence: hey how are yo\n",
      "Target Sequence: ey how are you\n",
      "Input Sequence: good i am fine\n",
      "Target Sequence: ood i am fine \n",
      "Input Sequence: have a nice da\n",
      "Target Sequence: ave a nice day\n"
     ]
    }
   ],
   "source": [
    "# Creating lists that will hold our input and target sequences\n",
    "input_seq = []\n",
    "target_seq = []\n",
    "\n",
    "for i in range(len(text)):\n",
    "    # Remove last character for input sequence\n",
    "  input_seq.append(text[i][:-1])\n",
    "    \n",
    "    # Remove first character for target sequence\n",
    "  target_seq.append(text[i][1:])\n",
    "  print(\"Input Sequence: {}\\nTarget Sequence: {}\".format(input_seq[i], target_seq[i]))"
   ]
  },
  {
   "cell_type": "code",
   "execution_count": 35,
   "metadata": {},
   "outputs": [
    {
     "name": "stdout",
     "output_type": "stream",
     "text": [
      "[[16, 6, 1, 15, 16, 2, 8, 15, 13, 4, 6, 15, 1, 2], [9, 2, 2, 7, 15, 11, 15, 13, 10, 15, 12, 11, 5, 6], [16, 13, 0, 6, 15, 13, 15, 5, 11, 14, 6, 15, 7, 13]] [[6, 1, 15, 16, 2, 8, 15, 13, 4, 6, 15, 1, 2, 3], [2, 2, 7, 15, 11, 15, 13, 10, 15, 12, 11, 5, 6, 15], [13, 0, 6, 15, 13, 15, 5, 11, 14, 6, 15, 7, 13, 1]]\n"
     ]
    }
   ],
   "source": [
    "for i in range(len(text)):\n",
    "    input_seq[i] = [char2int[character] for character in input_seq[i]]\n",
    "    target_seq[i] = [char2int[character] for character in target_seq[i]]\n",
    "    \n",
    "print(input_seq, target_seq)"
   ]
  }
 ],
 "metadata": {
  "kernelspec": {
   "display_name": "Python 3",
   "language": "python",
   "name": "python3"
  },
  "language_info": {
   "codemirror_mode": {
    "name": "ipython",
    "version": 3
   },
   "file_extension": ".py",
   "mimetype": "text/x-python",
   "name": "python",
   "nbconvert_exporter": "python",
   "pygments_lexer": "ipython3",
   "version": "3.6.8"
  }
 },
 "nbformat": 4,
 "nbformat_minor": 2
}
